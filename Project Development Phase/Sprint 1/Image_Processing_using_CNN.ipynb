{
  "cells": [
    {
      "cell_type": "code",
      "execution_count": 5,
      "metadata": {
        "id": "egoZTFV76iVX"
      },
      "outputs": [],
      "source": [
        "from keras.preprocessing.image import ImageDataGenerator\n",
        "import numpy as np#used for numerical analysis\n",
        "import tensorflow #open source used for both ML and DL for computation\n",
        "from tensorflow.keras.models import Sequential #it is a plain stack of Layers\n",
        "from tensorflow.keras import layers #A Layer consists of a tensor-in tensor-out computation function\n",
        "#Dense Layer is the regular deeply connected neural network Layer\n",
        "from tensorflow.keras.layers import Dense, Flatten\n",
        "#Faltten-used fot flattening the input or change the dimension\n",
        "from tensorflow.keras.layers import Conv2D, MaxPooling2D,Dropout #Convolutional layer\n",
        "#MaxPooling2D-for downsampling the image\n",
        "from keras.preprocessing.image import ImageDataGenerator"
      ]
    },
    {
      "cell_type": "code",
      "execution_count": 6,
      "metadata": {
        "id": "2d-qHO1a6s1v"
      },
      "outputs": [],
      "source": [
        "train_datagen = ImageDataGenerator(rescale=1./255,shear_range=0.2,zoom_range=0.2,horizontal_flip=True)\n",
        "test_datagen=ImageDataGenerator(rescale=1./255)"
      ]
    },
    {
      "cell_type": "code",
      "execution_count": 7,
      "metadata": {
        "colab": {
          "base_uri": "https://localhost:8080/"
        },
        "id": "dKK9jMzi60kh",
        "outputId": "9a203c8b-fca2-4b67-fcc7-0181006ceb7b"
      },
      "outputs": [
        {
          "output_type": "stream",
          "name": "stdout",
          "text": [
            "Found 2636 images belonging to 5 classes.\n",
            "Found 2636 images belonging to 5 classes.\n"
          ]
        }
      ],
      "source": [
        "x_train = train_datagen.flow_from_directory(\n",
        "    r'/content/drive/MyDrive/TRAIN_SET',\n",
        "    target_size=(64, 64),batch_size=5,color_mode='rgb',class_mode='sparse')\n",
        "x_test = test_datagen.flow_from_directory(\n",
        "    r'/content/drive/MyDrive/TRAIN_SET',\n",
        "    target_size=(64, 64),batch_size=5,color_mode='rgb',class_mode='sparse') "
      ]
    },
    {
      "cell_type": "code",
      "execution_count": 8,
      "metadata": {
        "colab": {
          "base_uri": "https://localhost:8080/"
        },
        "id": "UlAvN06zZhRa",
        "outputId": "bb6d0aca-89f1-4966-efda-a65d0651ea25"
      },
      "outputs": [
        {
          "output_type": "stream",
          "name": "stdout",
          "text": [
            "{'APPLES': 0, 'BANANA': 1, 'ORANGE': 2, 'PINEAPPLE': 3, 'WATERMELON': 4}\n"
          ]
        }
      ],
      "source": [
        "print(x_train.class_indices)#checking the number of classes"
      ]
    },
    {
      "cell_type": "code",
      "execution_count": 9,
      "metadata": {
        "colab": {
          "base_uri": "https://localhost:8080/"
        },
        "id": "81FY2m7A_oPi",
        "outputId": "ba205914-5b7e-41e9-db58-e1416afee38f"
      },
      "outputs": [
        {
          "output_type": "stream",
          "name": "stdout",
          "text": [
            "{'APPLES': 0, 'BANANA': 1, 'ORANGE': 2, 'PINEAPPLE': 3, 'WATERMELON': 4}\n"
          ]
        }
      ],
      "source": [
        "print(x_test.class_indices) #checking the number of classes"
      ]
    },
    {
      "cell_type": "code",
      "execution_count": 10,
      "metadata": {
        "colab": {
          "base_uri": "https://localhost:8080/"
        },
        "id": "fxn_rBQ3_rTq",
        "outputId": "7a06f3bf-5fe5-475b-e4f5-c6372215b549"
      },
      "outputs": [
        {
          "output_type": "execute_result",
          "data": {
            "text/plain": [
              "Counter({0: 606, 1: 445, 2: 479, 3: 631, 4: 475})"
            ]
          },
          "metadata": {},
          "execution_count": 10
        }
      ],
      "source": [
        "from collections import Counter as c \n",
        "c(x_train .labels)"
      ]
    },
    {
      "cell_type": "code",
      "execution_count": 11,
      "metadata": {
        "id": "qv92cae5URJ5"
      },
      "outputs": [],
      "source": [
        "model=Sequential()"
      ]
    },
    {
      "cell_type": "code",
      "execution_count": 12,
      "metadata": {
        "id": "O0kAvbMNURJ5"
      },
      "outputs": [],
      "source": [
        "# Initializing the CNN classifier = Sequential()\n",
        "classifier = Sequential()\n",
        "# First convolution layer and pooling\n",
        "classifier.add(Conv2D(32,(3, 3), input_shape=(64, 64, 3),activation='relu')) \n",
        "classifier.add(MaxPooling2D(pool_size=(2, 2)))\n",
        "# Second convolution layer and pooling\n",
        "classifier.add(Conv2D(32, (3, 3), activation='relu'))\n",
        "# input_shape is going to be the pooled feature maps from the previous convolution layer \n",
        "classifier.add(MaxPooling2D(pool_size=(2, 2)))\n",
        "# Flattening the Layers\n",
        "classifier.add(Flatten())\n",
        "# Adding fully connected Layer a\n",
        "classifier.add(Dense (units=128, activation='relu'))\n",
        "classifier.add(Dense (units=5, activation='softmax')) # softmax for more than 2"
      ]
    },
    {
      "cell_type": "code",
      "execution_count": 13,
      "metadata": {
        "colab": {
          "base_uri": "https://localhost:8080/"
        },
        "id": "d08Oruh01Kz3",
        "outputId": "1c496370-d1be-4030-abde-26cca6c89931"
      },
      "outputs": [
        {
          "output_type": "stream",
          "name": "stdout",
          "text": [
            "Model: \"sequential_1\"\n",
            "_________________________________________________________________\n",
            " Layer (type)                Output Shape              Param #   \n",
            "=================================================================\n",
            " conv2d (Conv2D)             (None, 62, 62, 32)        896       \n",
            "                                                                 \n",
            " max_pooling2d (MaxPooling2D  (None, 31, 31, 32)       0         \n",
            " )                                                               \n",
            "                                                                 \n",
            " conv2d_1 (Conv2D)           (None, 29, 29, 32)        9248      \n",
            "                                                                 \n",
            " max_pooling2d_1 (MaxPooling  (None, 14, 14, 32)       0         \n",
            " 2D)                                                             \n",
            "                                                                 \n",
            " flatten (Flatten)           (None, 6272)              0         \n",
            "                                                                 \n",
            " dense (Dense)               (None, 128)               802944    \n",
            "                                                                 \n",
            " dense_1 (Dense)             (None, 5)                 645       \n",
            "                                                                 \n",
            "=================================================================\n",
            "Total params: 813,733\n",
            "Trainable params: 813,733\n",
            "Non-trainable params: 0\n",
            "_________________________________________________________________\n"
          ]
        }
      ],
      "source": [
        "classifier.summary()"
      ]
    },
    {
      "cell_type": "code",
      "execution_count": 14,
      "metadata": {
        "id": "vn-AEp2bURJ7"
      },
      "outputs": [],
      "source": [
        "classifier.compile(optimizer='adam', loss='sparse_categorical_crossentropy', metrics=['accuracy'])"
      ]
    },
    {
      "cell_type": "code",
      "execution_count": 15,
      "metadata": {
        "colab": {
          "base_uri": "https://localhost:8080/"
        },
        "id": "I3RcBQmG-OVP",
        "outputId": "2c6a92de-e768-4cf3-b484-479a0a269c5b"
      },
      "outputs": [
        {
          "output_type": "stream",
          "name": "stderr",
          "text": [
            "/usr/local/lib/python3.7/dist-packages/ipykernel_launcher.py:4: UserWarning: `Model.fit_generator` is deprecated and will be removed in a future version. Please use `Model.fit`, which supports generators.\n",
            "  after removing the cwd from sys.path.\n"
          ]
        },
        {
          "output_type": "stream",
          "name": "stdout",
          "text": [
            "Epoch 1/20\n",
            "528/528 [==============================] - 577s 1s/step - loss: 0.1757 - accuracy: 0.9347 - val_loss: 4.0451e-04 - val_accuracy: 1.0000\n",
            "Epoch 2/20\n",
            "528/528 [==============================] - 20s 39ms/step - loss: 4.1659e-04 - accuracy: 1.0000 - val_loss: 1.1857e-04 - val_accuracy: 1.0000\n",
            "Epoch 3/20\n",
            "528/528 [==============================] - 20s 39ms/step - loss: 2.6746e-04 - accuracy: 1.0000 - val_loss: 3.8290e-05 - val_accuracy: 1.0000\n",
            "Epoch 4/20\n",
            "528/528 [==============================] - 20s 39ms/step - loss: 7.7762e-05 - accuracy: 1.0000 - val_loss: 1.9272e-05 - val_accuracy: 1.0000\n",
            "Epoch 5/20\n",
            "528/528 [==============================] - 21s 39ms/step - loss: 3.8503e-05 - accuracy: 1.0000 - val_loss: 1.6635e-05 - val_accuracy: 1.0000\n",
            "Epoch 6/20\n",
            "528/528 [==============================] - 20s 39ms/step - loss: 2.9929e-05 - accuracy: 1.0000 - val_loss: 1.0655e-05 - val_accuracy: 1.0000\n",
            "Epoch 7/20\n",
            "528/528 [==============================] - 21s 39ms/step - loss: 1.7580e-05 - accuracy: 1.0000 - val_loss: 5.2051e-06 - val_accuracy: 1.0000\n",
            "Epoch 8/20\n",
            "528/528 [==============================] - 21s 39ms/step - loss: 1.0155e-05 - accuracy: 1.0000 - val_loss: 3.4348e-06 - val_accuracy: 1.0000\n",
            "Epoch 9/20\n",
            "528/528 [==============================] - 20s 39ms/step - loss: 9.8855e-06 - accuracy: 1.0000 - val_loss: 2.1661e-06 - val_accuracy: 1.0000\n",
            "Epoch 10/20\n",
            "528/528 [==============================] - 21s 39ms/step - loss: 7.2835e-06 - accuracy: 1.0000 - val_loss: 1.8178e-06 - val_accuracy: 1.0000\n",
            "Epoch 11/20\n",
            "528/528 [==============================] - 21s 39ms/step - loss: 5.2597e-06 - accuracy: 1.0000 - val_loss: 1.1207e-06 - val_accuracy: 1.0000\n",
            "Epoch 12/20\n",
            "528/528 [==============================] - 21s 39ms/step - loss: 3.1790e-06 - accuracy: 1.0000 - val_loss: 8.5390e-07 - val_accuracy: 1.0000\n",
            "Epoch 13/20\n",
            "528/528 [==============================] - 21s 39ms/step - loss: 0.0525 - accuracy: 0.9894 - val_loss: 2.5856e-05 - val_accuracy: 1.0000\n",
            "Epoch 14/20\n",
            "528/528 [==============================] - 21s 39ms/step - loss: 0.0217 - accuracy: 0.9939 - val_loss: 3.3041e-04 - val_accuracy: 1.0000\n",
            "Epoch 15/20\n",
            "528/528 [==============================] - 20s 38ms/step - loss: 2.1137e-04 - accuracy: 1.0000 - val_loss: 1.5731e-05 - val_accuracy: 1.0000\n",
            "Epoch 16/20\n",
            "528/528 [==============================] - 20s 38ms/step - loss: 2.9769e-05 - accuracy: 1.0000 - val_loss: 4.9601e-06 - val_accuracy: 1.0000\n",
            "Epoch 17/20\n",
            "528/528 [==============================] - 21s 39ms/step - loss: 5.1926e-05 - accuracy: 1.0000 - val_loss: 4.2089e-06 - val_accuracy: 1.0000\n",
            "Epoch 18/20\n",
            "528/528 [==============================] - 21s 39ms/step - loss: 8.3108e-06 - accuracy: 1.0000 - val_loss: 1.7825e-06 - val_accuracy: 1.0000\n",
            "Epoch 19/20\n",
            "528/528 [==============================] - 20s 39ms/step - loss: 5.0180e-06 - accuracy: 1.0000 - val_loss: 1.2817e-06 - val_accuracy: 1.0000\n",
            "Epoch 20/20\n",
            "528/528 [==============================] - 21s 39ms/step - loss: 3.0097e-06 - accuracy: 1.0000 - val_loss: 9.0333e-07 - val_accuracy: 1.0000\n"
          ]
        },
        {
          "output_type": "execute_result",
          "data": {
            "text/plain": [
              "<keras.callbacks.History at 0x7fb2498b5610>"
            ]
          },
          "metadata": {},
          "execution_count": 15
        }
      ],
      "source": [
        "##Fitting the model\n",
        "classifier.fit_generator(\n",
        "    generator=x_train,steps_per_epoch = len(x_train), \n",
        "    epochs=20,validation_data=x_test,validation_steps = len(x_test)) # No of images in test set\n"
      ]
    },
    {
      "cell_type": "code",
      "execution_count": 20,
      "metadata": {
        "id": "1F119invVdKS"
      },
      "outputs": [],
      "source": [
        "classifier.save('nutrition.h5')"
      ]
    },
    {
      "cell_type": "code",
      "execution_count": 21,
      "metadata": {
        "id": "h0E4XsFFURJ9"
      },
      "outputs": [],
      "source": [
        "### Predicting our results\n",
        "from tensorflow.keras.models import load_model\n",
        "from keras.preprocessing import image\n",
        "model = load_model(\"nutrition.h5\") #Loading the model for testing\n",
        "from tensorflow.keras.preprocessing import image"
      ]
    },
    {
      "cell_type": "code",
      "execution_count": 22,
      "metadata": {
        "id": "LPxmrSndaH6J",
        "colab": {
          "base_uri": "https://localhost:8080/"
        },
        "outputId": "b386a249-454d-4c7b-e7c4-65c4a3972671"
      },
      "outputs": [
        {
          "output_type": "stream",
          "name": "stdout",
          "text": [
            "1/1 [==============================] - 0s 54ms/step\n"
          ]
        },
        {
          "output_type": "execute_result",
          "data": {
            "text/plain": [
              "array([[0., 0., 1., 0., 0.]], dtype=float32)"
            ]
          },
          "metadata": {},
          "execution_count": 22
        }
      ],
      "source": [
        "img =image.load_img(r\"/content/drive/MyDrive/TRAIN_SET/ORANGE/100_100.jpg\",grayscale=False, target_size= (64,64))\n",
        "x = image.img_to_array(img)#image to array\n",
        "x = np.expand_dims(x,axis=0) #changing the shape =\n",
        "pred =model.predict(x)#predicting the classes =\n",
        "pred"
      ]
    },
    {
      "cell_type": "code",
      "execution_count": 23,
      "metadata": {
        "id": "QE7Bw-sRlNHH",
        "colab": {
          "base_uri": "https://localhost:8080/",
          "height": 35
        },
        "outputId": "28148704-fa0a-4efd-aaa7-04d8de4c41d4"
      },
      "outputs": [
        {
          "output_type": "execute_result",
          "data": {
            "text/plain": [
              "'ORANGE'"
            ],
            "application/vnd.google.colaboratory.intrinsic+json": {
              "type": "string"
            }
          },
          "metadata": {},
          "execution_count": 23
        }
      ],
      "source": [
        "labels=['APPLES', 'BANANA', 'ORANGE','PINEAPPLE','WATERMELON']\n",
        "labels[np.argmax(pred)]"
      ]
    }
  ],
  "metadata": {
    "colab": {
      "collapsed_sections": [],
      "provenance": []
    },
    "kernelspec": {
      "display_name": "Python 3 (ipykernel)",
      "language": "python",
      "name": "python3"
    },
    "language_info": {
      "codemirror_mode": {
        "name": "ipython",
        "version": 3
      },
      "file_extension": ".py",
      "mimetype": "text/x-python",
      "name": "python",
      "nbconvert_exporter": "python",
      "pygments_lexer": "ipython3",
      "version": "3.9.13"
    }
  },
  "nbformat": 4,
  "nbformat_minor": 0
}